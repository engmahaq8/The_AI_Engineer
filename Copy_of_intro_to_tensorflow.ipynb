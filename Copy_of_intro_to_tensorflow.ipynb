{
  "cells": [
    {
      "cell_type": "markdown",
      "metadata": {
        "id": "view-in-github",
        "colab_type": "text"
      },
      "source": [
        "<a href=\"https://colab.research.google.com/github/engmahaq8/The_AI_Engineer/blob/main/Copy_of_intro_to_tensorflow.ipynb\" target=\"_parent\"><img src=\"https://colab.research.google.com/assets/colab-badge.svg\" alt=\"Open In Colab\"/></a>"
      ]
    },
    {
      "cell_type": "code",
      "execution_count": null,
      "metadata": {
        "id": "QwWUELAYnvZm"
      },
      "outputs": [],
      "source": [
        "import numpy as np\n",
        "import pandas as pd\n",
        "import matplotlib.pyplot as plt\n",
        "import tensorflow as tf"
      ]
    },
    {
      "cell_type": "markdown",
      "metadata": {
        "id": "RJjJwsj7nvZo"
      },
      "source": [
        "### Tensorflow Tensor"
      ]
    },
    {
      "cell_type": "code",
      "execution_count": null,
      "metadata": {
        "id": "gz-CFiK6nvZr"
      },
      "outputs": [],
      "source": [
        "a = tf.constant([3, 3, 3])# define a tf tensor\n",
        "b = tf.constant([2, 2, 2])  # Define tensors\n",
        "\n"
      ]
    },
    {
      "cell_type": "markdown",
      "metadata": {
        "id": "uhdqJNuhnvZs"
      },
      "source": [
        "### Tensorflow Placeholders"
      ]
    },
    {
      "cell_type": "markdown",
      "metadata": {
        "id": "oZYmGiY4nvZs"
      },
      "source": [
        "**Placeholders (tf.placeholder):**\n",
        "These were used as inputs to the graph where the values would be provided at runtime via feed_dict.\n",
        "\n",
        "They allowed dynamic input feeding during the execution of the graph.\n",
        "\n",
        "**Session:** In TensorFlow 1.x, you needed to create a tf.Session() to run operations, and placeholders required you to feed values into them during session execution."
      ]
    },
    {
      "cell_type": "code",
      "source": [
        "import tensorflow as tf\n",
        "\n",
        "# Instead of using tf.placeholder, use tf.constant or tf.Variable\n",
        "x = tf.constant(3.0)  # If x is a fixed input\n",
        "\n",
        "# or\n",
        "x = tf.Variable(3.0)  # If x needs to be updated during training\n",
        "\n",
        "# Constant\n",
        "a = tf.constant(5.0)\n",
        "b = tf.constant(10.0)\n",
        "\n",
        "# Define an operation\n",
        "result = a * x + b\n",
        "\n",
        "# In TensorFlow 2.x, you don't need a session to run the computation graph\n",
        "# The result is calculated immediately\n",
        "print(\"Result with placeholder:\", result)"
      ],
      "metadata": {
        "id": "Uq_76y6dpiop",
        "outputId": "a275e482-bffa-47f5-b87f-7086646c2b49",
        "colab": {
          "base_uri": "https://localhost:8080/"
        }
      },
      "execution_count": null,
      "outputs": [
        {
          "output_type": "stream",
          "name": "stdout",
          "text": [
            "Result with placeholder: tf.Tensor(25.0, shape=(), dtype=float32)\n"
          ]
        }
      ]
    },
    {
      "cell_type": "markdown",
      "metadata": {
        "id": "UaOh8EKnnvZt"
      },
      "source": [
        "**TensorFlow 2.x:** Focuses on constants (tf.constant) and variables (tf.Variable).\n",
        "\n",
        "Eager execution removes the need for placeholders or sessions.\n",
        "\n",
        "**TensorFlow 1.x:** Used placeholders (tf.placeholder) for feeding data into graphs at runtime and required sessions to execute the graph."
      ]
    },
    {
      "cell_type": "code",
      "execution_count": null,
      "metadata": {
        "id": "LqzXgeGsnvZt"
      },
      "outputs": [],
      "source": []
    },
    {
      "cell_type": "markdown",
      "metadata": {
        "id": "G6wbCBOrnvZt"
      },
      "source": [
        "### Tensorflow: Tensor Operations"
      ]
    },
    {
      "cell_type": "code",
      "source": [],
      "metadata": {
        "id": "sBppJ4fwsfMR"
      },
      "execution_count": null,
      "outputs": []
    },
    {
      "cell_type": "code",
      "source": [
        "import numpy as np\n",
        "import pandas as pd\n",
        "import matplotlib.pyplot as plt\n",
        "import tensorflow as tf"
      ],
      "metadata": {
        "id": "CsGobcW93ZV8"
      },
      "execution_count": null,
      "outputs": []
    },
    {
      "cell_type": "code",
      "source": [
        "import tensorflow as tf"
      ],
      "metadata": {
        "id": "MkZGJ51OyH0v"
      },
      "execution_count": null,
      "outputs": []
    },
    {
      "cell_type": "code",
      "source": [
        "import tensorflow as tf\n",
        "print(tf.__version__)"
      ],
      "metadata": {
        "id": "rtVfnogAu_mO",
        "outputId": "da535b01-f073-4350-a74b-2c07591717bb",
        "colab": {
          "base_uri": "https://localhost:8080/"
        }
      },
      "execution_count": null,
      "outputs": [
        {
          "output_type": "stream",
          "name": "stdout",
          "text": [
            "2.17.1\n"
          ]
        }
      ]
    },
    {
      "cell_type": "code",
      "source": [
        "print(\"Is eager execution enable?\",tf.executing_eagerly())"
      ],
      "metadata": {
        "id": "0rEHE7mhzVLt",
        "outputId": "7ded8b11-9d3b-4701-d71b-6df1bf0aa522",
        "colab": {
          "base_uri": "https://localhost:8080/"
        }
      },
      "execution_count": null,
      "outputs": [
        {
          "output_type": "stream",
          "name": "stdout",
          "text": [
            "Is eager execution enable? True\n"
          ]
        }
      ]
    },
    {
      "cell_type": "code",
      "source": [
        "a = tf.constant([3, 3, 3])# define a tf tensor\n",
        "b = tf.constant([2, 2, 2])"
      ],
      "metadata": {
        "id": "Skp7imV90Gzd"
      },
      "execution_count": null,
      "outputs": []
    },
    {
      "cell_type": "code",
      "source": [
        "sum_result = tf.add(a, b) # Addition\n",
        "print(\"Sum of Tensors\",sum_result)"
      ],
      "metadata": {
        "id": "jHyOUITlzqy7",
        "outputId": "3da11ddf-18c3-4293-de5e-39983b5989e7",
        "colab": {
          "base_uri": "https://localhost:8080/"
        }
      },
      "execution_count": null,
      "outputs": [
        {
          "output_type": "stream",
          "name": "stdout",
          "text": [
            "Sum of Tensors tf.Tensor([5 5 5], shape=(3,), dtype=int32)\n"
          ]
        }
      ]
    },
    {
      "cell_type": "code",
      "source": [],
      "metadata": {
        "id": "C0oRz5ak0AVB"
      },
      "execution_count": null,
      "outputs": []
    },
    {
      "cell_type": "code",
      "execution_count": null,
      "metadata": {
        "id": "z5EIS6mnnvZu",
        "outputId": "41cd54ce-2d1b-4bdc-d6df-eeb270b1a2f5",
        "colab": {
          "base_uri": "https://localhost:8080/"
        }
      },
      "outputs": [
        {
          "output_type": "stream",
          "name": "stdout",
          "text": [
            "Sum of Tensors tf.Tensor([5 5 5], shape=(3,), dtype=int32)\n",
            "Difference of tensors tf.Tensor([1 1 1], shape=(3,), dtype=int32)\n",
            "Quotient of Tensor tf.Tensor([1.5 1.5 1.5], shape=(3,), dtype=float64)\n",
            "Product of tensors  tf.Tensor([6 6 6], shape=(3,), dtype=int32)\n"
          ]
        }
      ],
      "source": [
        "sum_result = tf.add(a, b) # Addition\n",
        "diff_result = tf.subtract(a, b) # Subtraction\n",
        "quot_result = tf.divide(a, b) # Division\n",
        "prod_result = tf.multiply(a, b) # Multiplication\n",
        "\n",
        "print(\"Sum of Tensors\",sum_result)\n",
        "print(\"Difference of tensors\",diff_result)\n",
        "print(\"Quotient of Tensor\",quot_result)\n",
        "print(\"Product of tensors \",prod_result)\n",
        "\n",
        "\n"
      ]
    },
    {
      "cell_type": "code",
      "execution_count": null,
      "metadata": {
        "id": "FXENWSdbnvZu",
        "outputId": "1d603c11-abfe-4f9f-88ee-c300976d37d9",
        "colab": {
          "base_uri": "https://localhost:8080/"
        }
      },
      "outputs": [
        {
          "output_type": "stream",
          "name": "stdout",
          "text": [
            "Minimum: tf.Tensor([2 2 2], shape=(3,), dtype=int32)\n",
            "Maximum: tf.Tensor([3 3 3], shape=(3,), dtype=int32)\n",
            "Absolute value: tf.Tensor([3 3 3], shape=(3,), dtype=int32)\n"
          ]
        }
      ],
      "source": [
        "# Element-wise operations\n",
        "min_result = tf.minimum(a, b)\n",
        "max_result = tf.maximum(a, b)\n",
        "abs_result = tf.abs(a)\n",
        "\n",
        "print(\"Minimum:\", min_result)\n",
        "print(\"Maximum:\", max_result)\n",
        "print(\"Absolute value:\", abs_result)\n"
      ]
    },
    {
      "cell_type": "code",
      "source": [
        "c=tf.constant([-1,-2,1])\n",
        "tf.abs(c)"
      ],
      "metadata": {
        "id": "cqG54Xk31xXe",
        "outputId": "74ef0b79-e2e7-4095-d5aa-a65c4cdf8ac1",
        "colab": {
          "base_uri": "https://localhost:8080/"
        }
      },
      "execution_count": null,
      "outputs": [
        {
          "output_type": "execute_result",
          "data": {
            "text/plain": [
              "<tf.Tensor: shape=(3,), dtype=int32, numpy=array([1, 2, 1], dtype=int32)>"
            ]
          },
          "metadata": {},
          "execution_count": 13
        }
      ]
    },
    {
      "cell_type": "code",
      "execution_count": null,
      "metadata": {
        "id": "YRMVM8XInvZu",
        "outputId": "206aa5f8-c54b-43f6-da66-fbf050cbc375",
        "colab": {
          "base_uri": "https://localhost:8080/"
        }
      },
      "outputs": [
        {
          "output_type": "stream",
          "name": "stdout",
          "text": [
            "Logarithm: tf.Tensor([1.0986123 1.0986123 1.0986123], shape=(3,), dtype=float32)\n",
            "Exponential: tf.Tensor([20.085537 20.085537 20.085537], shape=(3,), dtype=float32)\n"
          ]
        }
      ],
      "source": [
        "# Cast the tensor `a` to float32 to match the type of 1e-8\n",
        "a = tf.cast(a, dtype=tf.float32)\n",
        "\n",
        "# Now you can safely compute the logarithm\n",
        "log_result = tf.math.log(tf.maximum(a, 1e-8))  # Ensure positive values for logarithm\n",
        "exp_result = tf.exp(a)\n",
        "\n",
        "\n",
        "print(\"Logarithm:\", log_result)\n",
        "print(\"Exponential:\", exp_result)\n"
      ]
    },
    {
      "cell_type": "code",
      "source": [
        "a = tf.constant([3, 3, 3])\n",
        "\n",
        "scalar = tf.constant(2)\n",
        "broadcast_result = tf.add(a, scalar)\n",
        "print(\"Broadcasted Addition:\", broadcast_result)"
      ],
      "metadata": {
        "id": "Qq6B2wLk_GIy",
        "outputId": "70d63a29-287b-4c8e-c6a3-f993cc46383d",
        "colab": {
          "base_uri": "https://localhost:8080/"
        }
      },
      "execution_count": null,
      "outputs": [
        {
          "output_type": "stream",
          "name": "stdout",
          "text": [
            "Broadcasted Addition: tf.Tensor([5 5 5], shape=(3,), dtype=int32)\n"
          ]
        }
      ]
    },
    {
      "cell_type": "code",
      "source": [
        "sum_axis = tf.reduce_sum(a, axis=0)  # Sum across the first axis\n",
        "mean_axis = tf.reduce_mean(a, axis=0)  # Mean across the first axis\n",
        "print(\"Sum across axis 0:\", sum_axis)\n",
        "print(\"Mean across axis 0:\", mean_axis)"
      ],
      "metadata": {
        "id": "9GPIFg6eMV_s",
        "outputId": "503885ed-97d7-4b33-fb86-80a6dc462810",
        "colab": {
          "base_uri": "https://localhost:8080/"
        }
      },
      "execution_count": null,
      "outputs": [
        {
          "output_type": "stream",
          "name": "stdout",
          "text": [
            "Sum across axis 0: tf.Tensor(9, shape=(), dtype=int32)\n",
            "Mean across axis 0: tf.Tensor(3, shape=(), dtype=int32)\n"
          ]
        }
      ]
    },
    {
      "cell_type": "markdown",
      "metadata": {
        "id": "c1Q8m0HfnvZv"
      },
      "source": [
        "#### Matmul example"
      ]
    },
    {
      "cell_type": "code",
      "source": [
        "import tensorflow as tf\n",
        "\n",
        "# Example: Input data for a neural network layer\n",
        "input_data = tf.constant([[1.0, 2.0], [3.0, 4.0]])  # Shape: (2, 2)\n",
        "weights = tf.constant([[0.5, -1.0], [1.0, 2.0]])    # Shape: (2, 2)\n",
        "\n",
        "# Matrix multiplication between input and weights\n",
        "output = tf.matmul(input_data, weights)\n",
        "print(\"Neural Network Layer Output:\\n\", output)"
      ],
      "metadata": {
        "id": "h7DPYl0bPKTX",
        "outputId": "5606af71-a265-457c-f5d4-179dd7a713d8",
        "colab": {
          "base_uri": "https://localhost:8080/"
        }
      },
      "execution_count": null,
      "outputs": [
        {
          "output_type": "stream",
          "name": "stdout",
          "text": [
            "Neural Network Layer Output:\n",
            " tf.Tensor(\n",
            "[[2.5 3. ]\n",
            " [5.5 5. ]], shape=(2, 2), dtype=float32)\n"
          ]
        }
      ]
    },
    {
      "cell_type": "markdown",
      "metadata": {
        "id": "vWUdc8XinvZv"
      },
      "source": [
        "#### Multiply Example (Element Wise)"
      ]
    },
    {
      "cell_type": "code",
      "execution_count": null,
      "metadata": {
        "id": "IzjLkAtknvZw",
        "outputId": "7359a25c-8823-4ad2-f39a-e76bd443a250",
        "colab": {
          "base_uri": "https://localhost:8080/"
        }
      },
      "outputs": [
        {
          "output_type": "stream",
          "name": "stdout",
          "text": [
            "Scaled Image:\n",
            " tf.Tensor(\n",
            "[[127.5  64. ]\n",
            " [ 32.   16. ]], shape=(2, 2), dtype=float32)\n"
          ]
        }
      ],
      "source": [
        "import tensorflow as tf\n",
        "\n",
        "# Example: Simulating image pixel values\n",
        "image = tf.constant([[255, 128], [64, 32]], dtype=tf.float32)  # Shape: (2, 2)\n",
        "\n",
        "# Scaling factor for each pixel (element-wise multiplication)\n",
        "#for example, you want to minimize the size of the image by halfw\n",
        "scaling_factor = 0.5\n",
        "scaled_image = tf.multiply(image, scaling_factor)\n",
        "print(\"Scaled Image:\\n\", scaled_image)\n"
      ]
    },
    {
      "cell_type": "markdown",
      "metadata": {
        "id": "SDYQald8nvZw"
      },
      "source": [
        "#### Multiply Example"
      ]
    },
    {
      "cell_type": "code",
      "execution_count": null,
      "metadata": {
        "id": "I-NAbNQynvZw"
      },
      "outputs": [],
      "source": []
    },
    {
      "cell_type": "markdown",
      "metadata": {
        "id": "yIBwbJhhnvZx"
      },
      "source": [
        "#### Gradient Derivates"
      ]
    },
    {
      "cell_type": "code",
      "execution_count": null,
      "metadata": {
        "id": "z0B9oiZbnvZx"
      },
      "outputs": [],
      "source": [
        "x = tf.Variable(1.0)\n",
        "\n",
        "def f(x):\n",
        "  y = x**2 + 2*x - 5\n",
        "  return y"
      ]
    },
    {
      "cell_type": "code",
      "execution_count": null,
      "metadata": {
        "id": "M7PhRiCAnvZx",
        "outputId": "0777a8ec-8f46-45af-b852-03c095246bd0",
        "colab": {
          "base_uri": "https://localhost:8080/"
        }
      },
      "outputs": [
        {
          "output_type": "execute_result",
          "data": {
            "text/plain": [
              "<tf.Tensor: shape=(), dtype=float32, numpy=4.0>"
            ]
          },
          "metadata": {},
          "execution_count": 20
        }
      ],
      "source": [
        "with tf.GradientTape() as tape:\n",
        "  y = f(x)\n",
        "\n",
        "g_x = tape.gradient(y, x)  # g(x) = dy/dx\n",
        "\n",
        "g_x"
      ]
    },
    {
      "cell_type": "markdown",
      "metadata": {
        "id": "x0hEGpNknvZx"
      },
      "source": [
        "### Tensorflow: Tensor vs Numpy Ndarray\n",
        "Let's do some benchmarking"
      ]
    },
    {
      "cell_type": "code",
      "execution_count": null,
      "metadata": {
        "id": "N5BDE5xsnvZx",
        "outputId": "885899d4-75a6-47ec-ef13-a8b289d226e5",
        "colab": {
          "base_uri": "https://localhost:8080/"
        }
      },
      "outputs": [
        {
          "output_type": "stream",
          "name": "stdout",
          "text": [
            "NumPy Duration: 60.150858 seconds\n",
            "TensorFlow (CPU) Duration: 35.363475 seconds\n"
          ]
        }
      ],
      "source": [
        "import time\n",
        "import numpy as np\n",
        "import tensorflow as tf\n",
        "\n",
        "# Create large random matrices\n",
        "size = 10000\n",
        "np_matrix_a = np.random.randn(size, size)\n",
        "np_matrix_b = np.random.randn(size, size)\n",
        "tf_matrix_a = tf.random.normal((size, size))\n",
        "tf_matrix_b = tf.random.normal((size, size))\n",
        "\n",
        "# Benchmark NumPy\n",
        "start_time = time.time()\n",
        "np_result = np.dot(np_matrix_a, np_matrix_b)\n",
        "np_duration = time.time() - start_time\n",
        "\n",
        "# Benchmark TensorFlow on CPU\n",
        "start_time = time.time()\n",
        "tf_result = tf.matmul(tf_matrix_a, tf_matrix_b)\n",
        "tf_duration = time.time() - start_time\n",
        "\n",
        "print(\"NumPy Duration: {:.6f} seconds\".format(np_duration))\n",
        "print(\"TensorFlow (CPU) Duration: {:.6f} seconds\".format(tf_duration))\n"
      ]
    },
    {
      "cell_type": "code",
      "source": [
        "# Example forward propagation in Python\n",
        "def forward_propagation(X, W, b):\n",
        "    Z = np.dot(W, X) + b  # Weighted sum\n",
        "    A = 1 / (1 + np.exp(-Z))  # Sigmoid activation function\n",
        "    return A\n",
        "\n",
        "# Dummy data\n",
        "X = np.array([[1.0], [2.0], [3.0]])  # Input\n",
        "W = np.array([[0.2, 0.4, 0.6]])  # Weights\n",
        "b = np.array([[0.5]])  # Bias\n",
        "\n",
        "# Forward propagation\n",
        "output = forward_propagation(X, W, b)\n",
        "print(\"Output of forward propagation:\", output)"
      ],
      "metadata": {
        "id": "yOYyeGX77Yqb",
        "outputId": "aa449299-4634-4e0a-e669-d3af725ab94b",
        "colab": {
          "base_uri": "https://localhost:8080/"
        }
      },
      "execution_count": null,
      "outputs": [
        {
          "output_type": "stream",
          "name": "stdout",
          "text": [
            "Output of forward propagation: [[0.96442881]]\n"
          ]
        }
      ]
    },
    {
      "cell_type": "code",
      "source": [],
      "metadata": {
        "id": "20-LfJI-9el9"
      },
      "execution_count": null,
      "outputs": []
    },
    {
      "cell_type": "code",
      "execution_count": null,
      "metadata": {
        "id": "rJg8jSfTnvZy"
      },
      "outputs": [],
      "source": [
        "\n",
        "# Example forward propagation in Python\n",
        "def forward_propagation(X, W, b):\n",
        "    Z = np.dot(W, X) + b  # Weighted sum\n",
        "    A = 1 / (1 + np.exp(-Z))  # Sigmoid activation function\n",
        "    return A\n",
        "\n",
        "# Dummy data\n",
        "X = np.array([[1.0], [2.0], [3.0]])  # Input\n",
        "W = np.array([[0.2, 0.4, 0.6]])  # Weights\n",
        "b = np.array([[0.5]])  # Bias\n",
        "\n",
        "# Forward propagation\n",
        "output = forward_propagation(X, W, b)\n",
        "print(\"Output of forward propagation:\", output)\n"
      ]
    },
    {
      "cell_type": "code",
      "execution_count": null,
      "metadata": {
        "id": "q7r5Ql78nvZy",
        "outputId": "1751355a-7a3c-4353-b942-f06c5aeec8d1",
        "colab": {
          "base_uri": "https://localhost:8080/"
        }
      },
      "outputs": [
        {
          "output_type": "stream",
          "name": "stdout",
          "text": [
            "Sigmoid: [0.26894142 0.5        0.73105858 0.88079708]\n",
            "ReLU: [0. 0. 1. 2.]\n",
            "Tanh: [-0.76159416  0.          0.76159416  0.96402758]\n"
          ]
        }
      ],
      "source": [
        "import numpy as np\n",
        "\n",
        "# Sigmoid activation function\n",
        "def sigmoid(x):\n",
        "    return 1 / (1 + np.exp(-x))\n",
        "\n",
        "# ReLU activation function\n",
        "def relu(x):\n",
        "    return np.maximum(0, x)\n",
        "\n",
        "# Tanh activation function\n",
        "def tanh(x):\n",
        "    return np.tanh(x)\n",
        "\n",
        "# Example of activation functions\n",
        "x = np.array([-1.0, 0.0, 1.0, 2.0])\n",
        "print(\"Sigmoid:\", sigmoid(x))\n",
        "print(\"ReLU:\", relu(x))\n",
        "print(\"Tanh:\", tanh(x))\n"
      ]
    },
    {
      "cell_type": "code",
      "execution_count": null,
      "metadata": {
        "id": "0B-j2_h9nvZy",
        "outputId": "c64d539d-39f9-4385-c649-60347c52f3da",
        "colab": {
          "base_uri": "https://localhost:8080/"
        }
      },
      "outputs": [
        {
          "output_type": "stream",
          "name": "stdout",
          "text": [
            "Output with ReLU activation: [[3.3]]\n"
          ]
        }
      ],
      "source": [
        "def forward_with_activation(X, W, b, activation_function):\n",
        "    Z = np.dot(W, X) + b  # Weighted sum\n",
        "    match activation_function:\n",
        "        case 'sigmoid':\n",
        "            A = sigmoid(Z)\n",
        "        case 'relu' :\n",
        "            A = relu(Z)\n",
        "        case 'tanh' :\n",
        "            A = tanh(Z)\n",
        "    return A\n",
        "\n",
        "# Testing the function\n",
        "W = np.array([[0.2, 0.4, 0.6]])\n",
        "b = np.array([[0.5]])\n",
        "X = np.array([[1.0], [2.0], [3.0]])\n",
        "\n",
        "output = forward_with_activation(X, W, b, activation_function='relu')\n",
        "print(\"Output with ReLU activation:\", output)\n"
      ]
    },
    {
      "cell_type": "code",
      "execution_count": null,
      "metadata": {
        "id": "CO7nPZaGnvZy"
      },
      "outputs": [],
      "source": []
    }
  ],
  "metadata": {
    "kernelspec": {
      "display_name": "venv",
      "language": "python",
      "name": "python3"
    },
    "language_info": {
      "codemirror_mode": {
        "name": "ipython",
        "version": 3
      },
      "file_extension": ".py",
      "mimetype": "text/x-python",
      "name": "python",
      "nbconvert_exporter": "python",
      "pygments_lexer": "ipython3",
      "version": "3.12.4"
    },
    "colab": {
      "provenance": [],
      "include_colab_link": true
    }
  },
  "nbformat": 4,
  "nbformat_minor": 0
}